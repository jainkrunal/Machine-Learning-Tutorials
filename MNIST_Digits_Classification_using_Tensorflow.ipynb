{
  "nbformat": 4,
  "nbformat_minor": 0,
  "metadata": {
    "colab": {
      "name": "MNIST-digits-classification-using-Tensorflow.ipynb",
      "version": "0.3.2",
      "provenance": [],
      "include_colab_link": true
    },
    "kernelspec": {
      "name": "python3",
      "display_name": "Python 3"
    },
    "accelerator": "GPU"
  },
  "cells": [
    {
      "cell_type": "markdown",
      "metadata": {
        "id": "view-in-github",
        "colab_type": "text"
      },
      "source": [
        "<a href=\"https://colab.research.google.com/github/jainkrunal/Machine-Learning-Tutorials/blob/master/MNIST_Digits_Classification_using_Tensorflow.ipynb\" target=\"_parent\"><img src=\"https://colab.research.google.com/assets/colab-badge.svg\" alt=\"Open In Colab\"/></a>"
      ]
    },
    {
      "cell_type": "markdown",
      "metadata": {
        "id": "0ZdyZo5tXh4k",
        "colab_type": "text"
      },
      "source": [
        "\n",
        "\n",
        "```\n",
        "Importing required libraries\n",
        "```\n",
        "\n"
      ]
    },
    {
      "cell_type": "code",
      "metadata": {
        "id": "1_uk3776XSTd",
        "colab_type": "code",
        "colab": {}
      },
      "source": [
        "import tensorflow as tf"
      ],
      "execution_count": 0,
      "outputs": []
    },
    {
      "cell_type": "markdown",
      "metadata": {
        "id": "_n4lop_pVr7P",
        "colab_type": "text"
      },
      "source": [
        "\n",
        "\n",
        "```\n",
        "Loading MNIST dataset\n",
        "```\n",
        "\n",
        " "
      ]
    },
    {
      "cell_type": "code",
      "metadata": {
        "id": "ZplKWp9aV0ug",
        "colab_type": "code",
        "colab": {}
      },
      "source": [
        "mnist_digits = tf.keras.datasets.mnist\n",
        "(x_train, y_train), (x_test, y_test) = mnist_digits.load_data()\n",
        "# normalizing\n",
        "x_train, x_test = x_train / 255.0, x_test / 255.0\n"
      ],
      "execution_count": 0,
      "outputs": []
    },
    {
      "cell_type": "markdown",
      "metadata": {
        "id": "amkHsORcYjkl",
        "colab_type": "text"
      },
      "source": [
        "```\n",
        "Building Model\n",
        "```"
      ]
    },
    {
      "cell_type": "code",
      "metadata": {
        "id": "eHDKRE_HWQAx",
        "colab_type": "code",
        "colab": {}
      },
      "source": [
        "classifier = tf.keras.models.Sequential()\n",
        "classifier.add(tf.keras.layers.Flatten(input_shape=(28, 28)))\n",
        "classifier.add(tf.keras.layers.Dense(512, activation=tf.nn.relu))\n",
        "classifier.add(tf.keras.layers.Dropout(0.2))\n",
        "classifier.add(tf.keras.layers.Dense(10, activation=tf.nn.softmax))\n",
        "\n",
        "\n",
        "classifier.compile(optimizer='adam',\n",
        "              loss='sparse_categorical_crossentropy',\n",
        "              metrics=['accuracy'])"
      ],
      "execution_count": 0,
      "outputs": []
    },
    {
      "cell_type": "code",
      "metadata": {
        "id": "vuHbt-uTWVEO",
        "colab_type": "code",
        "outputId": "8bd3ad21-ea9c-41a2-bb26-5321cafe5370",
        "colab": {
          "base_uri": "https://localhost:8080/",
          "height": 421
        }
      },
      "source": [
        "classifier.fit(x_train, y_train, epochs=10)\n",
        "\n",
        "classifier.evaluate(x_test, y_test)"
      ],
      "execution_count": 0,
      "outputs": [
        {
          "output_type": "stream",
          "text": [
            "Epoch 1/10\n",
            "60000/60000 [==============================] - 7s 111us/sample - loss: 0.2191 - acc: 0.9349\n",
            "Epoch 2/10\n",
            "60000/60000 [==============================] - 7s 111us/sample - loss: 0.0967 - acc: 0.9711\n",
            "Epoch 3/10\n",
            "60000/60000 [==============================] - 7s 110us/sample - loss: 0.0689 - acc: 0.9782\n",
            "Epoch 4/10\n",
            "60000/60000 [==============================] - 7s 112us/sample - loss: 0.0532 - acc: 0.9830\n",
            "Epoch 5/10\n",
            "60000/60000 [==============================] - 7s 116us/sample - loss: 0.0418 - acc: 0.9866\n",
            "Epoch 6/10\n",
            "60000/60000 [==============================] - 7s 123us/sample - loss: 0.0384 - acc: 0.9873\n",
            "Epoch 7/10\n",
            "60000/60000 [==============================] - 8s 125us/sample - loss: 0.0307 - acc: 0.9897\n",
            "Epoch 8/10\n",
            "60000/60000 [==============================] - 7s 123us/sample - loss: 0.0266 - acc: 0.9909\n",
            "Epoch 9/10\n",
            "60000/60000 [==============================] - 8s 127us/sample - loss: 0.0244 - acc: 0.9919\n",
            "Epoch 10/10\n",
            "60000/60000 [==============================] - 7s 114us/sample - loss: 0.0215 - acc: 0.9926\n",
            "10000/10000 [==============================] - 1s 75us/sample - loss: 0.0819 - acc: 0.9813\n"
          ],
          "name": "stdout"
        },
        {
          "output_type": "execute_result",
          "data": {
            "text/plain": [
              "[0.081898017653243, 0.9813]"
            ]
          },
          "metadata": {
            "tags": []
          },
          "execution_count": 12
        }
      ]
    }
  ]
}